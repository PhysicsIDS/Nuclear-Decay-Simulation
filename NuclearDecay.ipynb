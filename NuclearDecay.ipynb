{
 "cells": [
  {
   "cell_type": "code",
   "execution_count": 7,
   "id": "bb6abd71",
   "metadata": {},
   "outputs": [
    {
     "name": "stdout",
     "output_type": "stream",
     "text": [
      "21 21\n"
     ]
    },
    {
     "data": {
      "image/png": "[encoded data removed]",
      "text/plain": [
       "<Figure size 432x288 with 1 Axes>"
      ]
     },
     "metadata": {
      "needs_background": "light"
     },
     "output_type": "display_data"
    }
   ],
   "source": [
    "import random as rnd\n",
    "import matplotlib.pyplot as plt\n",
    "\n",
    "start_atom = 10\n",
    "\n",
    "decay_state = 4\n",
    "allowed_states = 6\n",
    "\n",
    "decay_count = 0\n",
    "\n",
    "time = 0\n",
    "\n",
    "timeData = [0]\n",
    "atomData = [start_atom]\n",
    "\n",
    "\n",
    "while start_atom > 0:\n",
    "\n",
    "\tfor atom in range(start_atom):\n",
    "\t\tstate = rnd.randint(1,allowed_states)\n",
    "\t\tif state == decay_state:\n",
    "\t\t\tstart_atom = start_atom - 1\n",
    "\t\t\tif start_atom == 0:\n",
    "\t\t\t\tbreak\n",
    "\t\t\t\t\n",
    "\ttime = time + 1\n",
    "\ttimeData.append(time)\n",
    "\tatomData.append(start_atom)\n",
    "\t\t\t\t\n",
    "print(len(timeData),len(atomData))\n",
    "\n",
    "plt.plot(timeData,atomData)\n",
    "plt.show()\n",
    "\n",
    "\n",
    "\n",
    "\t\t\t\t\n",
    "\t\n",
    "\t\n",
    "\n"
   ]
  },
  {
   "cell_type": "code",
   "execution_count": null,
   "id": "a3ba7c08",
   "metadata": {},
   "outputs": [],
   "source": []
  }
 ],
 "metadata": {
  "kernelspec": {
   "display_name": "Python 3",
   "language": "python",
   "name": "python3"
  },
  "language_info": {
   "codemirror_mode": {
    "name": "ipython",
    "version": 3
   },
   "file_extension": ".py",
   "mimetype": "text/x-python",
   "name": "python",
   "nbconvert_exporter": "python",
   "pygments_lexer": "ipython3",
   "version": "3.9.5"
  }
 },
 "nbformat": 4,
 "nbformat_minor": 5
}
